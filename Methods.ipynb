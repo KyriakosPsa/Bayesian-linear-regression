{
  "nbformat": 4,
  "nbformat_minor": 0,
  "metadata": {
    "colab": {
      "provenance": [],
      "authorship_tag": "ABX9TyPRoAu7noZU8TvUwjHxC+an",
      "include_colab_link": true
    },
    "kernelspec": {
      "name": "python3",
      "display_name": "Python 3"
    },
    "language_info": {
      "name": "python"
    }
  },
  "cells": [
    {
      "cell_type": "markdown",
      "metadata": {
        "id": "view-in-github",
        "colab_type": "text"
      },
      "source": [
        "<a href=\"https://colab.research.google.com/github/KyriakosPsa/Bayesian-linear-regression/blob/master/Methods.ipynb\" target=\"_parent\"><img src=\"https://colab.research.google.com/assets/colab-badge.svg\" alt=\"Open In Colab\"/></a>"
      ]
    },
    {
      "cell_type": "code",
      "execution_count": 25,
      "metadata": {
        "id": "VMw9ke-k7x3i",
        "colab": {
          "base_uri": "https://localhost:8080/"
        },
        "outputId": "854df0dd-3138-4263-b38d-1141cd4ddafe"
      },
      "outputs": [
        {
          "output_type": "stream",
          "name": "stdout",
          "text": [
            "Drive already mounted at /content/drive; to attempt to forcibly remount, call drive.mount(\"/content/drive\", force_remount=True).\n"
          ]
        }
      ],
      "source": [
        "from google.colab import drive\n",
        "\n",
        "import numpy as np\n",
        "import pandas as pd\n",
        "import anndata as ad\n",
        "from scipy.sparse import csr_matrix\n",
        "drive.mount('/content/drive')"
      ]
    },
    {
      "cell_type": "markdown",
      "source": [
        "# Preprocessing"
      ],
      "metadata": {
        "id": "2RLTgLxFB5bi"
      }
    },
    {
      "cell_type": "code",
      "source": [
        "data = pd.read_csv(\n",
        "    \"/content/drive/MyDrive/Datasets/GSE75688_GEO_processed_Breast_Cancer_raw_TPM_matrix.txt\", delimiter=\"\\t\")\n",
        "print(\"The shape of the dataframe is: \",data.shape)\n",
        "data.head()"
      ],
      "metadata": {
        "colab": {
          "base_uri": "https://localhost:8080/",
          "height": 327
        },
        "id": "l57jpfA-_AMW",
        "outputId": "47163a7f-93e0-4fbe-ab63-bb0537e963f5"
      },
      "execution_count": 26,
      "outputs": [
        {
          "output_type": "stream",
          "name": "stdout",
          "text": [
            "The shape of the dataframe is:  (57915, 566)\n"
          ]
        },
        {
          "output_type": "execute_result",
          "data": {
            "text/plain": [
              "              gene_id gene_name       gene_type  BC01_Pooled  BC01_Tumor  \\\n",
              "0  ENSG00000000003.10    TSPAN6  protein_coding         2.33        1.25   \n",
              "1   ENSG00000000005.5      TNMD  protein_coding         0.00        0.00   \n",
              "2   ENSG00000000419.8      DPM1  protein_coding        60.70       28.44   \n",
              "3   ENSG00000000457.9     SCYL3  protein_coding        47.93        4.43   \n",
              "4  ENSG00000000460.12  C1orf112  protein_coding         4.79        1.67   \n",
              "\n",
              "   BC02_Pooled  BC03_Pooled  BC03LN_Pooled  BC04_Pooled  BC05_Pooled  ...  \\\n",
              "0        43.96         7.64           9.32       133.37        84.77  ...   \n",
              "1         0.00         0.00           0.00         0.00         0.00  ...   \n",
              "2        74.73        41.41          87.69       120.41        70.67  ...   \n",
              "3         9.89         7.61           7.32        12.42        12.02  ...   \n",
              "4        10.87         0.92          15.13        17.10         5.69  ...   \n",
              "\n",
              "   BC11_04  BC11_07  BC11_28  BC11_43  BC11_56  BC11_69  BC11_70  BC11_78  \\\n",
              "0     0.00    47.44    16.11     0.00     6.56     0.00     0.00     0.00   \n",
              "1     0.00     0.00     0.00     0.00     0.00     0.00     0.00     0.00   \n",
              "2   198.96     0.00     0.00    20.63     0.00     0.00     0.00   136.07   \n",
              "3     0.00    10.96     0.00     0.00     0.00     0.27     0.00     0.07   \n",
              "4     0.00     6.97     9.02     0.00     0.00     0.14   247.69    22.60   \n",
              "\n",
              "   BC11_81  BC11_88  \n",
              "0   200.82     0.00  \n",
              "1     0.00     0.00  \n",
              "2    22.03   204.58  \n",
              "3     0.19     9.52  \n",
              "4    11.35     0.00  \n",
              "\n",
              "[5 rows x 566 columns]"
            ],
            "text/html": [
              "\n",
              "  <div id=\"df-2a054462-1cc8-45ff-bd59-366cd27f0c8f\">\n",
              "    <div class=\"colab-df-container\">\n",
              "      <div>\n",
              "<style scoped>\n",
              "    .dataframe tbody tr th:only-of-type {\n",
              "        vertical-align: middle;\n",
              "    }\n",
              "\n",
              "    .dataframe tbody tr th {\n",
              "        vertical-align: top;\n",
              "    }\n",
              "\n",
              "    .dataframe thead th {\n",
              "        text-align: right;\n",
              "    }\n",
              "</style>\n",
              "<table border=\"1\" class=\"dataframe\">\n",
              "  <thead>\n",
              "    <tr style=\"text-align: right;\">\n",
              "      <th></th>\n",
              "      <th>gene_id</th>\n",
              "      <th>gene_name</th>\n",
              "      <th>gene_type</th>\n",
              "      <th>BC01_Pooled</th>\n",
              "      <th>BC01_Tumor</th>\n",
              "      <th>BC02_Pooled</th>\n",
              "      <th>BC03_Pooled</th>\n",
              "      <th>BC03LN_Pooled</th>\n",
              "      <th>BC04_Pooled</th>\n",
              "      <th>BC05_Pooled</th>\n",
              "      <th>...</th>\n",
              "      <th>BC11_04</th>\n",
              "      <th>BC11_07</th>\n",
              "      <th>BC11_28</th>\n",
              "      <th>BC11_43</th>\n",
              "      <th>BC11_56</th>\n",
              "      <th>BC11_69</th>\n",
              "      <th>BC11_70</th>\n",
              "      <th>BC11_78</th>\n",
              "      <th>BC11_81</th>\n",
              "      <th>BC11_88</th>\n",
              "    </tr>\n",
              "  </thead>\n",
              "  <tbody>\n",
              "    <tr>\n",
              "      <th>0</th>\n",
              "      <td>ENSG00000000003.10</td>\n",
              "      <td>TSPAN6</td>\n",
              "      <td>protein_coding</td>\n",
              "      <td>2.33</td>\n",
              "      <td>1.25</td>\n",
              "      <td>43.96</td>\n",
              "      <td>7.64</td>\n",
              "      <td>9.32</td>\n",
              "      <td>133.37</td>\n",
              "      <td>84.77</td>\n",
              "      <td>...</td>\n",
              "      <td>0.00</td>\n",
              "      <td>47.44</td>\n",
              "      <td>16.11</td>\n",
              "      <td>0.00</td>\n",
              "      <td>6.56</td>\n",
              "      <td>0.00</td>\n",
              "      <td>0.00</td>\n",
              "      <td>0.00</td>\n",
              "      <td>200.82</td>\n",
              "      <td>0.00</td>\n",
              "    </tr>\n",
              "    <tr>\n",
              "      <th>1</th>\n",
              "      <td>ENSG00000000005.5</td>\n",
              "      <td>TNMD</td>\n",
              "      <td>protein_coding</td>\n",
              "      <td>0.00</td>\n",
              "      <td>0.00</td>\n",
              "      <td>0.00</td>\n",
              "      <td>0.00</td>\n",
              "      <td>0.00</td>\n",
              "      <td>0.00</td>\n",
              "      <td>0.00</td>\n",
              "      <td>...</td>\n",
              "      <td>0.00</td>\n",
              "      <td>0.00</td>\n",
              "      <td>0.00</td>\n",
              "      <td>0.00</td>\n",
              "      <td>0.00</td>\n",
              "      <td>0.00</td>\n",
              "      <td>0.00</td>\n",
              "      <td>0.00</td>\n",
              "      <td>0.00</td>\n",
              "      <td>0.00</td>\n",
              "    </tr>\n",
              "    <tr>\n",
              "      <th>2</th>\n",
              "      <td>ENSG00000000419.8</td>\n",
              "      <td>DPM1</td>\n",
              "      <td>protein_coding</td>\n",
              "      <td>60.70</td>\n",
              "      <td>28.44</td>\n",
              "      <td>74.73</td>\n",
              "      <td>41.41</td>\n",
              "      <td>87.69</td>\n",
              "      <td>120.41</td>\n",
              "      <td>70.67</td>\n",
              "      <td>...</td>\n",
              "      <td>198.96</td>\n",
              "      <td>0.00</td>\n",
              "      <td>0.00</td>\n",
              "      <td>20.63</td>\n",
              "      <td>0.00</td>\n",
              "      <td>0.00</td>\n",
              "      <td>0.00</td>\n",
              "      <td>136.07</td>\n",
              "      <td>22.03</td>\n",
              "      <td>204.58</td>\n",
              "    </tr>\n",
              "    <tr>\n",
              "      <th>3</th>\n",
              "      <td>ENSG00000000457.9</td>\n",
              "      <td>SCYL3</td>\n",
              "      <td>protein_coding</td>\n",
              "      <td>47.93</td>\n",
              "      <td>4.43</td>\n",
              "      <td>9.89</td>\n",
              "      <td>7.61</td>\n",
              "      <td>7.32</td>\n",
              "      <td>12.42</td>\n",
              "      <td>12.02</td>\n",
              "      <td>...</td>\n",
              "      <td>0.00</td>\n",
              "      <td>10.96</td>\n",
              "      <td>0.00</td>\n",
              "      <td>0.00</td>\n",
              "      <td>0.00</td>\n",
              "      <td>0.27</td>\n",
              "      <td>0.00</td>\n",
              "      <td>0.07</td>\n",
              "      <td>0.19</td>\n",
              "      <td>9.52</td>\n",
              "    </tr>\n",
              "    <tr>\n",
              "      <th>4</th>\n",
              "      <td>ENSG00000000460.12</td>\n",
              "      <td>C1orf112</td>\n",
              "      <td>protein_coding</td>\n",
              "      <td>4.79</td>\n",
              "      <td>1.67</td>\n",
              "      <td>10.87</td>\n",
              "      <td>0.92</td>\n",
              "      <td>15.13</td>\n",
              "      <td>17.10</td>\n",
              "      <td>5.69</td>\n",
              "      <td>...</td>\n",
              "      <td>0.00</td>\n",
              "      <td>6.97</td>\n",
              "      <td>9.02</td>\n",
              "      <td>0.00</td>\n",
              "      <td>0.00</td>\n",
              "      <td>0.14</td>\n",
              "      <td>247.69</td>\n",
              "      <td>22.60</td>\n",
              "      <td>11.35</td>\n",
              "      <td>0.00</td>\n",
              "    </tr>\n",
              "  </tbody>\n",
              "</table>\n",
              "<p>5 rows × 566 columns</p>\n",
              "</div>\n",
              "      <button class=\"colab-df-convert\" onclick=\"convertToInteractive('df-2a054462-1cc8-45ff-bd59-366cd27f0c8f')\"\n",
              "              title=\"Convert this dataframe to an interactive table.\"\n",
              "              style=\"display:none;\">\n",
              "        \n",
              "  <svg xmlns=\"http://www.w3.org/2000/svg\" height=\"24px\"viewBox=\"0 0 24 24\"\n",
              "       width=\"24px\">\n",
              "    <path d=\"M0 0h24v24H0V0z\" fill=\"none\"/>\n",
              "    <path d=\"M18.56 5.44l.94 2.06.94-2.06 2.06-.94-2.06-.94-.94-2.06-.94 2.06-2.06.94zm-11 1L8.5 8.5l.94-2.06 2.06-.94-2.06-.94L8.5 2.5l-.94 2.06-2.06.94zm10 10l.94 2.06.94-2.06 2.06-.94-2.06-.94-.94-2.06-.94 2.06-2.06.94z\"/><path d=\"M17.41 7.96l-1.37-1.37c-.4-.4-.92-.59-1.43-.59-.52 0-1.04.2-1.43.59L10.3 9.45l-7.72 7.72c-.78.78-.78 2.05 0 2.83L4 21.41c.39.39.9.59 1.41.59.51 0 1.02-.2 1.41-.59l7.78-7.78 2.81-2.81c.8-.78.8-2.07 0-2.86zM5.41 20L4 18.59l7.72-7.72 1.47 1.35L5.41 20z\"/>\n",
              "  </svg>\n",
              "      </button>\n",
              "      \n",
              "  <style>\n",
              "    .colab-df-container {\n",
              "      display:flex;\n",
              "      flex-wrap:wrap;\n",
              "      gap: 12px;\n",
              "    }\n",
              "\n",
              "    .colab-df-convert {\n",
              "      background-color: #E8F0FE;\n",
              "      border: none;\n",
              "      border-radius: 50%;\n",
              "      cursor: pointer;\n",
              "      display: none;\n",
              "      fill: #1967D2;\n",
              "      height: 32px;\n",
              "      padding: 0 0 0 0;\n",
              "      width: 32px;\n",
              "    }\n",
              "\n",
              "    .colab-df-convert:hover {\n",
              "      background-color: #E2EBFA;\n",
              "      box-shadow: 0px 1px 2px rgba(60, 64, 67, 0.3), 0px 1px 3px 1px rgba(60, 64, 67, 0.15);\n",
              "      fill: #174EA6;\n",
              "    }\n",
              "\n",
              "    [theme=dark] .colab-df-convert {\n",
              "      background-color: #3B4455;\n",
              "      fill: #D2E3FC;\n",
              "    }\n",
              "\n",
              "    [theme=dark] .colab-df-convert:hover {\n",
              "      background-color: #434B5C;\n",
              "      box-shadow: 0px 1px 3px 1px rgba(0, 0, 0, 0.15);\n",
              "      filter: drop-shadow(0px 1px 2px rgba(0, 0, 0, 0.3));\n",
              "      fill: #FFFFFF;\n",
              "    }\n",
              "  </style>\n",
              "\n",
              "      <script>\n",
              "        const buttonEl =\n",
              "          document.querySelector('#df-2a054462-1cc8-45ff-bd59-366cd27f0c8f button.colab-df-convert');\n",
              "        buttonEl.style.display =\n",
              "          google.colab.kernel.accessAllowed ? 'block' : 'none';\n",
              "\n",
              "        async function convertToInteractive(key) {\n",
              "          const element = document.querySelector('#df-2a054462-1cc8-45ff-bd59-366cd27f0c8f');\n",
              "          const dataTable =\n",
              "            await google.colab.kernel.invokeFunction('convertToInteractive',\n",
              "                                                     [key], {});\n",
              "          if (!dataTable) return;\n",
              "\n",
              "          const docLinkHtml = 'Like what you see? Visit the ' +\n",
              "            '<a target=\"_blank\" href=https://colab.research.google.com/notebooks/data_table.ipynb>data table notebook</a>'\n",
              "            + ' to learn more about interactive tables.';\n",
              "          element.innerHTML = '';\n",
              "          dataTable['output_type'] = 'display_data';\n",
              "          await google.colab.output.renderOutput(dataTable, element);\n",
              "          const docLink = document.createElement('div');\n",
              "          docLink.innerHTML = docLinkHtml;\n",
              "          element.appendChild(docLink);\n",
              "        }\n",
              "      </script>\n",
              "    </div>\n",
              "  </div>\n",
              "  "
            ]
          },
          "metadata": {},
          "execution_count": 26
        }
      ]
    },
    {
      "cell_type": "markdown",
      "source": [
        "This is not the usual shape of a single cell counts so we transform it accordingly"
      ],
      "metadata": {
        "id": "wtV9OUw1B22n"
      }
    },
    {
      "cell_type": "code",
      "source": [
        "counts = pd.concat([data.iloc[:,1], data.iloc[:,3:]],axis = 1)\n",
        "counts.set_index('gene_name',inplace = True) \n",
        "counts = counts.T\n",
        "cells = counts.index\n",
        "genes = counts.columns\n",
        "gene_type = data"
      ],
      "metadata": {
        "colab": {
          "base_uri": "https://localhost:8080/"
        },
        "id": "huZfYamnAf0S",
        "outputId": "bcd88a7b-22ee-4c1e-fbec-f11da316ad1a"
      },
      "execution_count": 45,
      "outputs": [
        {
          "output_type": "execute_result",
          "data": {
            "text/plain": [
              "array([[2.3300000e+00, 0.0000000e+00, 6.0700000e+01, ..., 1.4940700e+04,\n",
              "        9.8582000e+02, 0.0000000e+00],\n",
              "       [1.2500000e+00, 0.0000000e+00, 2.8440000e+01, ..., 4.5728190e+04,\n",
              "        6.0750000e+02, 0.0000000e+00],\n",
              "       [4.3960000e+01, 0.0000000e+00, 7.4730000e+01, ..., 1.0442910e+04,\n",
              "        3.6255000e+02, 0.0000000e+00],\n",
              "       ...,\n",
              "       [0.0000000e+00, 0.0000000e+00, 1.3607000e+02, ..., 3.3465110e+04,\n",
              "        1.6521900e+03, 0.0000000e+00],\n",
              "       [2.0082000e+02, 0.0000000e+00, 2.2030000e+01, ..., 1.0890135e+05,\n",
              "        3.4395300e+03, 0.0000000e+00],\n",
              "       [0.0000000e+00, 0.0000000e+00, 2.0458000e+02, ..., 5.7492010e+04,\n",
              "        1.8374100e+03, 0.0000000e+00]])"
            ]
          },
          "metadata": {},
          "execution_count": 45
        }
      ]
    },
    {
      "cell_type": "markdown",
      "source": [
        "Now we can load it in a sparse matrix and into an adata object"
      ],
      "metadata": {
        "id": "rGNSNud1J8kA"
      }
    },
    {
      "cell_type": "code",
      "source": [
        "counts_tmp = csr_matrix(counts.values, dtype=np.float32)\n",
        "adata = ad.AnnData(counts_tmp)"
      ],
      "metadata": {
        "colab": {
          "base_uri": "https://localhost:8080/"
        },
        "id": "knhx4x4_JKxR",
        "outputId": "347602f6-2d9d-43ee-d801-cf704c3986b6"
      },
      "execution_count": 46,
      "outputs": [
        {
          "output_type": "execute_result",
          "data": {
            "text/plain": [
              "<563x57915 sparse matrix of type '<class 'numpy.float32'>'\n",
              "\twith 3312222 stored elements in Compressed Sparse Row format>"
            ]
          },
          "metadata": {},
          "execution_count": 46
        }
      ]
    },
    {
      "cell_type": "code",
      "source": [
        "adata.obs_names = cells\n",
        "adata.var_names = genes "
      ],
      "metadata": {
        "id": "O9LgPbC-KfpL"
      },
      "execution_count": 47,
      "outputs": []
    },
    {
      "cell_type": "code",
      "source": [
        "adata.obs[\"cell_type\"]"
      ],
      "metadata": {
        "id": "5kMBdjkRMLC7"
      },
      "execution_count": null,
      "outputs": []
    },
    {
      "cell_type": "code",
      "source": [
        "print(adata.obs_names[:10])"
      ],
      "metadata": {
        "colab": {
          "base_uri": "https://localhost:8080/"
        },
        "id": "1O777xyhLn1W",
        "outputId": "81d84254-741b-4e73-af91-6738d10358d5"
      },
      "execution_count": 51,
      "outputs": [
        {
          "output_type": "stream",
          "name": "stdout",
          "text": [
            "Index(['BC01_Pooled', 'BC01_Tumor', 'BC02_Pooled', 'BC03_Pooled',\n",
            "       'BC03LN_Pooled', 'BC04_Pooled', 'BC05_Pooled', 'BC06_Pooled',\n",
            "       'BC07_Tumor', 'BC07LN_Pooled'],\n",
            "      dtype='object')\n"
          ]
        }
      ]
    }
  ]
}